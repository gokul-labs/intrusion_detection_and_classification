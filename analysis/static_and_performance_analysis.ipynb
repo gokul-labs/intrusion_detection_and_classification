{
  "nbformat": 4,
  "nbformat_minor": 0,
  "metadata": {
    "colab": {
      "name": "static_and_performance_analysis.ipynb",
      "provenance": [],
      "collapsed_sections": []
    },
    "kernelspec": {
      "name": "python3",
      "display_name": "Python 3"
    },
    "language_info": {
      "name": "python"
    }
  },
  "cells": [
    {
      "cell_type": "code",
      "source": [
        "!pip install pyspark"
      ],
      "metadata": {
        "colab": {
          "base_uri": "https://localhost:8080/"
        },
        "id": "GavrTFVUNZYQ",
        "outputId": "a6c1b396-d927-4512-ab2a-0ffea3f216ce"
      },
      "execution_count": 2,
      "outputs": [
        {
          "output_type": "stream",
          "name": "stdout",
          "text": [
            "Collecting pyspark\n",
            "  Downloading pyspark-3.2.0.tar.gz (281.3 MB)\n",
            "\u001b[K     |████████████████████████████████| 281.3 MB 37 kB/s \n",
            "\u001b[?25hCollecting py4j==0.10.9.2\n",
            "  Downloading py4j-0.10.9.2-py2.py3-none-any.whl (198 kB)\n",
            "\u001b[K     |████████████████████████████████| 198 kB 53.8 MB/s \n",
            "\u001b[?25hBuilding wheels for collected packages: pyspark\n",
            "  Building wheel for pyspark (setup.py) ... \u001b[?25l\u001b[?25hdone\n",
            "  Created wheel for pyspark: filename=pyspark-3.2.0-py2.py3-none-any.whl size=281805912 sha256=a7b3d50f3edd690a99819bc91759807c65311e529c12e9bbf10a27a3cca8856c\n",
            "  Stored in directory: /root/.cache/pip/wheels/0b/de/d2/9be5d59d7331c6c2a7c1b6d1a4f463ce107332b1ecd4e80718\n",
            "Successfully built pyspark\n",
            "Installing collected packages: py4j, pyspark\n",
            "Successfully installed py4j-0.10.9.2 pyspark-3.2.0\n"
          ]
        }
      ]
    },
    {
      "cell_type": "markdown",
      "source": [
        "***MOUNT GOOGLE DRIVE WHERE THE ANALYSIS SOURCE (AS TEXT FILES) WILL RESIDE***"
      ],
      "metadata": {
        "id": "fq2v_sm5DHO_"
      }
    },
    {
      "cell_type": "code",
      "source": [
        "from google.colab import drive\n",
        "drive.mount('/content/drive', force_remount=True)"
      ],
      "metadata": {
        "colab": {
          "base_uri": "https://localhost:8080/"
        },
        "id": "qC2-GRyeWwal",
        "outputId": "ed19e6dd-70b4-4769-8e73-03074a1f3fda"
      },
      "execution_count": 7,
      "outputs": [
        {
          "output_type": "stream",
          "name": "stdout",
          "text": [
            "Mounted at /content/drive\n"
          ]
        }
      ]
    },
    {
      "cell_type": "markdown",
      "source": [
        "***LOAD SOURCE FILE FROM DRIVE WITH SCHEMA***"
      ],
      "metadata": {
        "id": "SkOT1DYuDFXt"
      }
    },
    {
      "cell_type": "code",
      "source": [
        "from pyspark.sql import SparkSession, types\n",
        "import matplotlib.pyplot as plt\n",
        "import numpy as np\n",
        "\n",
        "analysis_schema = types.StructType([\n",
        "        types.StructField('file_name', types.StringType(), nullable=True),\n",
        "        types.StructField('function_name', types.StringType(), nullable=True),\n",
        "        types.StructField('description', types.StringType(), nullable=True),\n",
        "        types.StructField('time_taken', types.FloatType(), nullable=True)\n",
        "    ])\n",
        "\n",
        "\n",
        "spark = SparkSession.builder.appName(\"process dataset\").getOrCreate()\n",
        "df = spark.read.csv(\"/content/drive/My Drive/performance_analysis.txt\", schema=analysis_schema, sep=\",\")\n",
        "df.show()\n"
      ],
      "metadata": {
        "colab": {
          "base_uri": "https://localhost:8080/"
        },
        "id": "7Aj6Uo5BW705",
        "outputId": "cfcc08f0-e810-4302-faea-f4e662f60fd4"
      },
      "execution_count": 8,
      "outputs": [
        {
          "output_type": "stream",
          "name": "stdout",
          "text": [
            "+---------------+--------------------+--------------------+----------+\n",
            "|      file_name|       function_name|         description|time_taken|\n",
            "+---------------+--------------------+--------------------+----------+\n",
            "|read_write_data|       read_data_csv| Load dataframe f...|  2.022549|\n",
            "|   process_data|  drop_selected_data| Drop data to red...|  1.612916|\n",
            "|   process_data| map_attack_categ...| Find the attack ...|  0.095926|\n",
            "|   process_data| process_attack_c...| Perform all atta...| 15.598624|\n",
            "|   process_data| remove_duplicate...| Remove duplicate...|  0.035989|\n",
            "|   process_data| load_and_initial...| Perform initialE...| 15.691589|\n",
            "|   run_training| training_model_f...| Create model fro...|  943.5327|\n",
            "|   run_training| augment_and_proc...| Augment and proc...| 16.140919|\n",
            "|   run_training|          save_model| Run the training...|  927.3918|\n",
            "+---------------+--------------------+--------------------+----------+\n",
            "\n"
          ]
        }
      ]
    },
    {
      "cell_type": "markdown",
      "source": [
        "This shows the running times of all functions. The flow is, if function_A internally calls function_B, the run time of function_B is added to the run time of function A (because the total time taken by function_A is dependent on function_B's return time)."
      ],
      "metadata": {
        "id": "k8zwSTRbDxW0"
      }
    },
    {
      "cell_type": "markdown",
      "source": [
        "The initial data size is 5 Million+ records and throughout various ETL and cleaning processes, the number of records for training are 220K+"
      ],
      "metadata": {
        "id": "rR6gUXJoEls9"
      }
    },
    {
      "cell_type": "code",
      "source": [
        "df = df.toPandas()\n",
        "without_training = df.loc[df['file_name'] != \"run_training\"]\n",
        "plt.figure(figsize=(10, 5))\n",
        "plt.bar(np.array(without_training.iloc[:,1]) , np.array(without_training.iloc[:,3]) , color='blue')\n",
        "plt.xticks(rotation=45)\n",
        "plt.title(\"For non-training cycles, function names vs running time in seconds\")\n",
        "plt.legend([\"Running time in seconds\"], loc='upper left')\n",
        "plt.show()\n"
      ],
      "metadata": {
        "colab": {
          "base_uri": "https://localhost:8080/",
          "height": 499
        },
        "id": "nD2XAHf5qwtn",
        "outputId": "4a6a8660-c1b4-4cf1-d31b-0d921e39a8b2"
      },
      "execution_count": 9,
      "outputs": [
        {
          "output_type": "display_data",
          "data": {
            "image/png": "[encoded data removed]",
            "text/plain": [
              "<Figure size 720x360 with 1 Axes>"
            ]
          },
          "metadata": {
            "needs_background": "light"
          }
        }
      ]
    },
    {
      "cell_type": "markdown",
      "source": [
        "This shows the total running time of the whole training pipeline and the longest stage of the ETL functions."
      ],
      "metadata": {
        "id": "bpWgqwoCJLIY"
      }
    },
    {
      "cell_type": "code",
      "source": [
        "training_cycles = df.sort_values(ascending=False, by=\"time_taken\")\n",
        "train_time = training_cycles.iloc[0,:]\n",
        "display(training_cycles)\n",
        "\n",
        "stage_name = np.array(train_time[1])\n",
        "time_taken = np.array(train_time[3])\n",
        "\n",
        "stage_name = np.append([stage_name], [\"Total running time of pipeline\"])\n",
        "time_taken = np.append([time_taken], [training_cycles[\"time_taken\"].sum()])\n",
        "\n",
        "print()\n",
        "print()\n",
        "\n",
        "plt.figure(figsize=(10, 5))\n",
        "plt.bar(stage_name , time_taken , color=['yellow', 'orange'])\n",
        "plt.title(\"The highest run time taken vs total running time of pipeline\")\n",
        "handles = [plt.Rectangle((0,0),1,1, color=color_type) for color_type in ['orange', 'yellow']]\n",
        "plt.legend(handles, [\"Total running time of pipeline\", \"Time taken by the longest function\"], loc='upper left')\n",
        "plt.show()"
      ],
      "metadata": {
        "colab": {
          "base_uri": "https://localhost:8080/",
          "height": 686
        },
        "id": "yZP519JFiaAF",
        "outputId": "f5a2389f-92b9-4c07-e63a-7dcdbc6fc3d0"
      },
      "execution_count": 10,
      "outputs": [
        {
          "output_type": "display_data",
          "data": {
            "text/html": [
              "<div>\n",
              "<style scoped>\n",
              "    .dataframe tbody tr th:only-of-type {\n",
              "        vertical-align: middle;\n",
              "    }\n",
              "\n",
              "    .dataframe tbody tr th {\n",
              "        vertical-align: top;\n",
              "    }\n",
              "\n",
              "    .dataframe thead th {\n",
              "        text-align: right;\n",
              "    }\n",
              "</style>\n",
              "<table border=\"1\" class=\"dataframe\">\n",
              "  <thead>\n",
              "    <tr style=\"text-align: right;\">\n",
              "      <th></th>\n",
              "      <th>file_name</th>\n",
              "      <th>function_name</th>\n",
              "      <th>description</th>\n",
              "      <th>time_taken</th>\n",
              "    </tr>\n",
              "  </thead>\n",
              "  <tbody>\n",
              "    <tr>\n",
              "      <th>6</th>\n",
              "      <td>run_training</td>\n",
              "      <td>training_model_full_data</td>\n",
              "      <td>Create model from full training data</td>\n",
              "      <td>943.532715</td>\n",
              "    </tr>\n",
              "    <tr>\n",
              "      <th>8</th>\n",
              "      <td>run_training</td>\n",
              "      <td>save_model</td>\n",
              "      <td>Run the training on full data and save the ge...</td>\n",
              "      <td>927.391785</td>\n",
              "    </tr>\n",
              "    <tr>\n",
              "      <th>7</th>\n",
              "      <td>run_training</td>\n",
              "      <td>augment_and_process_data</td>\n",
              "      <td>Augment and process data for training</td>\n",
              "      <td>16.140919</td>\n",
              "    </tr>\n",
              "    <tr>\n",
              "      <th>5</th>\n",
              "      <td>process_data</td>\n",
              "      <td>load_and_initial_process_input_dataset</td>\n",
              "      <td>Perform initialETL processing steps</td>\n",
              "      <td>15.691589</td>\n",
              "    </tr>\n",
              "    <tr>\n",
              "      <th>3</th>\n",
              "      <td>process_data</td>\n",
              "      <td>process_attack_column</td>\n",
              "      <td>Perform all attack relatedETL operations</td>\n",
              "      <td>15.598624</td>\n",
              "    </tr>\n",
              "    <tr>\n",
              "      <th>0</th>\n",
              "      <td>read_write_data</td>\n",
              "      <td>read_data_csv</td>\n",
              "      <td>Load dataframe from the input file</td>\n",
              "      <td>2.022549</td>\n",
              "    </tr>\n",
              "    <tr>\n",
              "      <th>1</th>\n",
              "      <td>process_data</td>\n",
              "      <td>drop_selected_data</td>\n",
              "      <td>Drop data to reduce data skew</td>\n",
              "      <td>1.612916</td>\n",
              "    </tr>\n",
              "    <tr>\n",
              "      <th>2</th>\n",
              "      <td>process_data</td>\n",
              "      <td>map_attack_categories</td>\n",
              "      <td>Find the attack category from attack type</td>\n",
              "      <td>0.095926</td>\n",
              "    </tr>\n",
              "    <tr>\n",
              "      <th>4</th>\n",
              "      <td>process_data</td>\n",
              "      <td>remove_duplicate_records_remove_duplicates</td>\n",
              "      <td>Remove duplicates using drop duplicate method</td>\n",
              "      <td>0.035989</td>\n",
              "    </tr>\n",
              "  </tbody>\n",
              "</table>\n",
              "</div>"
            ],
            "text/plain": [
              "         file_name  ...  time_taken\n",
              "6     run_training  ...  943.532715\n",
              "8     run_training  ...  927.391785\n",
              "7     run_training  ...   16.140919\n",
              "5     process_data  ...   15.691589\n",
              "3     process_data  ...   15.598624\n",
              "0  read_write_data  ...    2.022549\n",
              "1     process_data  ...    1.612916\n",
              "2     process_data  ...    0.095926\n",
              "4     process_data  ...    0.035989\n",
              "\n",
              "[9 rows x 4 columns]"
            ]
          },
          "metadata": {}
        },
        {
          "output_type": "stream",
          "name": "stdout",
          "text": [
            "\n",
            "\n"
          ]
        },
        {
          "output_type": "display_data",
          "data": {
            "image/png": "[encoded data removed]",
            "text/plain": [
              "<Figure size 720x360 with 1 Axes>"
            ]
          },
          "metadata": {
            "needs_background": "light"
          }
        }
      ]
    },
    {
      "cell_type": "markdown",
      "source": [
        "Convert the spark dataframe to pandas dataframe"
      ],
      "metadata": {
        "id": "eSR81Y85JZAz"
      }
    },
    {
      "cell_type": "code",
      "source": [
        "df = spark.read.csv(\"/content/drive/My Drive/static_analysis.txt\", schema=analysis_schema, sep=\",\")\n",
        "df.show()\n",
        "\n",
        "compare = df.toPandas()\n"
      ],
      "metadata": {
        "colab": {
          "base_uri": "https://localhost:8080/"
        },
        "id": "KFzU_x5Yptak",
        "outputId": "da1dc4ee-e138-4742-ce93-77ccbe0558f0"
      },
      "execution_count": 162,
      "outputs": [
        {
          "output_type": "stream",
          "name": "stdout",
          "text": [
            "+---------------+--------------------+--------------------+----------+\n",
            "|      file_name|       function_name|         description|time_taken|\n",
            "+---------------+--------------------+--------------------+----------+\n",
            "|read_write_data|     read_dataset_s3| Read the full un...| 25.890606|\n",
            "|read_write_data| read_dataset_s3_...| Read the compres...|  2.603271|\n",
            "|   process_data| remove_duplicate...| Remove duplicate...|  88.36895|\n",
            "|   process_data| remove_duplicate...| Remove duplicate...| 75.016014|\n",
            "|   process_data|   get_attack_counts| Materialize the ...|  60.53679|\n",
            "|   process_data| get_attack_count...| Materialize the ...| 14.454663|\n",
            "|   process_data| clean_data_distinct| Remove columns w...| 190.25467|\n",
            "|   process_data| clean_data_witho...| Remove columns w...| 120.25467|\n",
            "+---------------+--------------------+--------------------+----------+\n",
            "\n"
          ]
        }
      ]
    },
    {
      "cell_type": "markdown",
      "source": [
        "During ETL, we compared different ways of implementing the same logic and tested them against each other. We recorded the running times of each method separately and decided to keep the efficient of the two. We did these for many functions and chose the pipeline steps carefully. The following graphs signify these analysis one by one."
      ],
      "metadata": {
        "id": "mJd7MSbgJw3k"
      }
    },
    {
      "cell_type": "markdown",
      "source": [
        "Reading the compressed version of the file from S3, seemed more efficient than reading the whole data from S3 for processing, which was our first approach."
      ],
      "metadata": {
        "id": "Evyl_gkZKWCw"
      }
    },
    {
      "cell_type": "code",
      "source": [
        "compare_read_data = compare.iloc[0:2,:]\n",
        "display(compare_read_data)\n",
        "\n",
        "print()\n",
        "print()\n",
        "\n",
        "plt.figure(figsize=(10, 5))\n",
        "plt.bar(np.array(compare_read_data.iloc[:,1]) , np.array(compare_read_data.iloc[:,3]) , color=['red','green'])\n",
        "plt.title(\"Loading data to dataframe from source\")\n",
        "handles = [plt.Rectangle((0,0),1,1, color=color_type) for color_type in ['red', 'green']]\n",
        "plt.legend(handles, [\"Method-1 Running time in seconds\", \"Method-2 Running time in seconds\"], loc='upper right')\n",
        "plt.show()"
      ],
      "metadata": {
        "colab": {
          "base_uri": "https://localhost:8080/",
          "height": 467
        },
        "id": "PErkX4yIq101",
        "outputId": "01df6894-c30f-4f09-f3e3-2c2e3b6ee6b7"
      },
      "execution_count": 180,
      "outputs": [
        {
          "output_type": "display_data",
          "data": {
            "text/html": [
              "<div>\n",
              "<style scoped>\n",
              "    .dataframe tbody tr th:only-of-type {\n",
              "        vertical-align: middle;\n",
              "    }\n",
              "\n",
              "    .dataframe tbody tr th {\n",
              "        vertical-align: top;\n",
              "    }\n",
              "\n",
              "    .dataframe thead th {\n",
              "        text-align: right;\n",
              "    }\n",
              "</style>\n",
              "<table border=\"1\" class=\"dataframe\">\n",
              "  <thead>\n",
              "    <tr style=\"text-align: right;\">\n",
              "      <th></th>\n",
              "      <th>file_name</th>\n",
              "      <th>function_name</th>\n",
              "      <th>description</th>\n",
              "      <th>time_taken</th>\n",
              "    </tr>\n",
              "  </thead>\n",
              "  <tbody>\n",
              "    <tr>\n",
              "      <th>0</th>\n",
              "      <td>read_write_data</td>\n",
              "      <td>read_dataset_s3</td>\n",
              "      <td>Read the full uncompressed data from S3</td>\n",
              "      <td>25.890606</td>\n",
              "    </tr>\n",
              "    <tr>\n",
              "      <th>1</th>\n",
              "      <td>read_write_data</td>\n",
              "      <td>read_dataset_s3_compressed</td>\n",
              "      <td>Read the compressed dataset S3</td>\n",
              "      <td>2.603271</td>\n",
              "    </tr>\n",
              "  </tbody>\n",
              "</table>\n",
              "</div>"
            ],
            "text/plain": [
              "         file_name  ... time_taken\n",
              "0  read_write_data  ...  25.890606\n",
              "1  read_write_data  ...   2.603271\n",
              "\n",
              "[2 rows x 4 columns]"
            ]
          },
          "metadata": {}
        },
        {
          "output_type": "stream",
          "name": "stdout",
          "text": [
            "\n",
            "\n"
          ]
        },
        {
          "output_type": "display_data",
          "data": {
            "image/png": "[encoded data removed]",
            "text/plain": [
              "<Figure size 720x360 with 1 Axes>"
            ]
          },
          "metadata": {
            "needs_background": "light"
          }
        }
      ]
    },
    {
      "cell_type": "markdown",
      "source": [
        "To remove duplicates, we tested 2 methods, by using distinct() and by using dropDuplicates(). One always seemed more performant than the other."
      ],
      "metadata": {
        "id": "XzOlWCA6Kh35"
      }
    },
    {
      "cell_type": "code",
      "source": [
        "compare_remove_duplicates = compare.iloc[2:4,:]\n",
        "display(compare_remove_duplicates)\n",
        "\n",
        "print()\n",
        "print()\n",
        "\n",
        "plt.figure(figsize=(10, 5))\n",
        "plt.bar(np.array(compare_remove_duplicates.iloc[:,1]) , np.array(compare_remove_duplicates.iloc[:,3]) , color=['red','green'])\n",
        "plt.xticks()\n",
        "plt.title(\"Remove duplicates by distinct and drop duplicates method\")\n",
        "handles = [plt.Rectangle((0,0),1,1, color=color_type) for color_type in ['red', 'green']]\n",
        "plt.legend(handles, [\"Method-1 Running time in seconds\", \"Method-2 Running time in seconds\"], loc='upper right')\n",
        "plt.show()"
      ],
      "metadata": {
        "colab": {
          "base_uri": "https://localhost:8080/",
          "height": 467
        },
        "id": "Cnx_TrR-s5jW",
        "outputId": "7d547e92-4796-4f78-9e60-12a2cfe9c963"
      },
      "execution_count": 181,
      "outputs": [
        {
          "output_type": "display_data",
          "data": {
            "text/html": [
              "<div>\n",
              "<style scoped>\n",
              "    .dataframe tbody tr th:only-of-type {\n",
              "        vertical-align: middle;\n",
              "    }\n",
              "\n",
              "    .dataframe tbody tr th {\n",
              "        vertical-align: top;\n",
              "    }\n",
              "\n",
              "    .dataframe thead th {\n",
              "        text-align: right;\n",
              "    }\n",
              "</style>\n",
              "<table border=\"1\" class=\"dataframe\">\n",
              "  <thead>\n",
              "    <tr style=\"text-align: right;\">\n",
              "      <th></th>\n",
              "      <th>file_name</th>\n",
              "      <th>function_name</th>\n",
              "      <th>description</th>\n",
              "      <th>time_taken</th>\n",
              "    </tr>\n",
              "  </thead>\n",
              "  <tbody>\n",
              "    <tr>\n",
              "      <th>2</th>\n",
              "      <td>process_data</td>\n",
              "      <td>remove_duplicate_records_drop_duplicates</td>\n",
              "      <td>Remove duplicates using drop duplicates</td>\n",
              "      <td>88.368950</td>\n",
              "    </tr>\n",
              "    <tr>\n",
              "      <th>3</th>\n",
              "      <td>process_data</td>\n",
              "      <td>remove_duplicate_records_distinct</td>\n",
              "      <td>Remove duplicates using distinct</td>\n",
              "      <td>75.016014</td>\n",
              "    </tr>\n",
              "  </tbody>\n",
              "</table>\n",
              "</div>"
            ],
            "text/plain": [
              "      file_name  ... time_taken\n",
              "2  process_data  ...  88.368950\n",
              "3  process_data  ...  75.016014\n",
              "\n",
              "[2 rows x 4 columns]"
            ]
          },
          "metadata": {}
        },
        {
          "output_type": "stream",
          "name": "stdout",
          "text": [
            "\n",
            "\n"
          ]
        },
        {
          "output_type": "display_data",
          "data": {
            "image/png": "[encoded data removed]",
            "text/plain": [
              "<Figure size 720x360 with 1 Axes>"
            ]
          },
          "metadata": {
            "needs_background": "light"
          }
        }
      ]
    },
    {
      "cell_type": "markdown",
      "source": [
        "For processing, we needed to access the attack counts and types. In order to materialize the dataframe to access these values, we had 2 approaches and decided on the better of the two."
      ],
      "metadata": {
        "id": "6ap0WjnnK3GO"
      }
    },
    {
      "cell_type": "code",
      "source": [
        "compare_get_attack_counts_from_spark_dataframe = compare.iloc[4:6,:]\n",
        "display(compare_get_attack_counts_from_spark_dataframe)\n",
        "\n",
        "print()\n",
        "print()\n",
        "\n",
        "plt.figure(figsize=(10, 5))\n",
        "plt.bar(np.array(compare_get_attack_counts_from_spark_dataframe.iloc[:,1]) , np.array(compare_get_attack_counts_from_spark_dataframe.iloc[:,3]) , color=['red','green'])\n",
        "plt.xticks()\n",
        "plt.title(\"Get attack counts by type from Spark dataframe while processing to drop columns below threshold\")\n",
        "handles = [plt.Rectangle((0,0),1,1, color=color_type) for color_type in ['red', 'green']]\n",
        "plt.legend(handles, [\"Method-1 Running time in seconds\", \"Method-2 Running time in seconds\"], loc='upper right')\n",
        "plt.show()"
      ],
      "metadata": {
        "colab": {
          "base_uri": "https://localhost:8080/",
          "height": 467
        },
        "id": "cxmexSoetP9w",
        "outputId": "9987d4be-66c3-4528-def3-eb630f78fb4f"
      },
      "execution_count": 182,
      "outputs": [
        {
          "output_type": "display_data",
          "data": {
            "text/html": [
              "<div>\n",
              "<style scoped>\n",
              "    .dataframe tbody tr th:only-of-type {\n",
              "        vertical-align: middle;\n",
              "    }\n",
              "\n",
              "    .dataframe tbody tr th {\n",
              "        vertical-align: top;\n",
              "    }\n",
              "\n",
              "    .dataframe thead th {\n",
              "        text-align: right;\n",
              "    }\n",
              "</style>\n",
              "<table border=\"1\" class=\"dataframe\">\n",
              "  <thead>\n",
              "    <tr style=\"text-align: right;\">\n",
              "      <th></th>\n",
              "      <th>file_name</th>\n",
              "      <th>function_name</th>\n",
              "      <th>description</th>\n",
              "      <th>time_taken</th>\n",
              "    </tr>\n",
              "  </thead>\n",
              "  <tbody>\n",
              "    <tr>\n",
              "      <th>4</th>\n",
              "      <td>process_data</td>\n",
              "      <td>get_attack_counts</td>\n",
              "      <td>Materialize the df to get count of attacks by...</td>\n",
              "      <td>60.536789</td>\n",
              "    </tr>\n",
              "    <tr>\n",
              "      <th>5</th>\n",
              "      <td>process_data</td>\n",
              "      <td>get_attack_counts_pandas</td>\n",
              "      <td>Materialize the df to get count of attacks by...</td>\n",
              "      <td>14.454663</td>\n",
              "    </tr>\n",
              "  </tbody>\n",
              "</table>\n",
              "</div>"
            ],
            "text/plain": [
              "      file_name  ... time_taken\n",
              "4  process_data  ...  60.536789\n",
              "5  process_data  ...  14.454663\n",
              "\n",
              "[2 rows x 4 columns]"
            ]
          },
          "metadata": {}
        },
        {
          "output_type": "stream",
          "name": "stdout",
          "text": [
            "\n",
            "\n"
          ]
        },
        {
          "output_type": "display_data",
          "data": {
            "image/png": "[encoded data removed]",
            "text/plain": [
              "<Figure size 720x360 with 1 Axes>"
            ]
          },
          "metadata": {
            "needs_background": "light"
          }
        }
      ]
    },
    {
      "cell_type": "markdown",
      "source": [
        "Features with only one value in the whole column do not add value to the ML perspective, hence can be dropped for training. There are a couple of ways of doing it, by using distinct or by a custom logic where we pick the first value and filter the values of the column to find uniqueness. The best function was found and the column list was made to directy drop them in the data. If needed, this function can be used to find these columns for a new dataset."
      ],
      "metadata": {
        "id": "ouIxyA8SLJLq"
      }
    },
    {
      "cell_type": "code",
      "source": [
        "clean_data_without_distinct = compare.iloc[6:8,:]\n",
        "display(clean_data_without_distinct)\n",
        "\n",
        "print()\n",
        "print()\n",
        "\n",
        "plt.figure(figsize=(10, 5))\n",
        "plt.bar(np.array(clean_data_without_distinct.iloc[:,1]) , np.array(clean_data_without_distinct.iloc[:,3]) , color=['red','green'])\n",
        "plt.xticks()\n",
        "plt.title(\"Drop columns having the same value in all records (below a configurable threshold)\")\n",
        "handles = [plt.Rectangle((0,0),1,1, color=color_type) for color_type in ['red', 'green']]\n",
        "plt.legend(handles, [\"Method-1 Running time in seconds\", \"Method-2 Running time in seconds\"], loc='upper right')\n",
        "plt.show()"
      ],
      "metadata": {
        "colab": {
          "base_uri": "https://localhost:8080/",
          "height": 467
        },
        "id": "5-QYvySPttbe",
        "outputId": "eb39e2f3-b4b1-4f4b-9d04-020beecd2e17"
      },
      "execution_count": 183,
      "outputs": [
        {
          "output_type": "display_data",
          "data": {
            "text/html": [
              "<div>\n",
              "<style scoped>\n",
              "    .dataframe tbody tr th:only-of-type {\n",
              "        vertical-align: middle;\n",
              "    }\n",
              "\n",
              "    .dataframe tbody tr th {\n",
              "        vertical-align: top;\n",
              "    }\n",
              "\n",
              "    .dataframe thead th {\n",
              "        text-align: right;\n",
              "    }\n",
              "</style>\n",
              "<table border=\"1\" class=\"dataframe\">\n",
              "  <thead>\n",
              "    <tr style=\"text-align: right;\">\n",
              "      <th></th>\n",
              "      <th>file_name</th>\n",
              "      <th>function_name</th>\n",
              "      <th>description</th>\n",
              "      <th>time_taken</th>\n",
              "    </tr>\n",
              "  </thead>\n",
              "  <tbody>\n",
              "    <tr>\n",
              "      <th>6</th>\n",
              "      <td>process_data</td>\n",
              "      <td>clean_data_distinct</td>\n",
              "      <td>Remove columns with single value using distinct</td>\n",
              "      <td>190.254669</td>\n",
              "    </tr>\n",
              "    <tr>\n",
              "      <th>7</th>\n",
              "      <td>process_data</td>\n",
              "      <td>clean_data_without_distinct</td>\n",
              "      <td>Remove columns with single value without dist...</td>\n",
              "      <td>120.254669</td>\n",
              "    </tr>\n",
              "  </tbody>\n",
              "</table>\n",
              "</div>"
            ],
            "text/plain": [
              "      file_name  ...  time_taken\n",
              "6  process_data  ...  190.254669\n",
              "7  process_data  ...  120.254669\n",
              "\n",
              "[2 rows x 4 columns]"
            ]
          },
          "metadata": {}
        },
        {
          "output_type": "stream",
          "name": "stdout",
          "text": [
            "\n",
            "\n"
          ]
        },
        {
          "output_type": "display_data",
          "data": {
            "image/png": "[encoded data removed]",
            "text/plain": [
              "<Figure size 720x360 with 1 Axes>"
            ]
          },
          "metadata": {
            "needs_background": "light"
          }
        }
      ]
    }
  ]
}